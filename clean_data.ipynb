{
 "cells": [
  {
   "cell_type": "code",
   "execution_count": 1,
   "id": "6b631e8c",
   "metadata": {},
   "outputs": [
    {
     "name": "stdout",
     "output_type": "stream",
     "text": [
      "Requirement already satisfied: pyspark in /usr/local/spark-3.2.0-bin-hadoop3.2/python (3.2.0)\r\n",
      "Requirement already satisfied: py4j==0.10.9.2 in /opt/conda/lib/python3.9/site-packages (from pyspark) (0.10.9.2)\r\n"
     ]
    }
   ],
   "source": [
    "!pip install pyspark"
   ]
  },
  {
   "cell_type": "code",
   "execution_count": 2,
   "id": "7d388537",
   "metadata": {},
   "outputs": [],
   "source": [
    "import pyspark"
   ]
  },
  {
   "cell_type": "code",
   "execution_count": 3,
   "id": "80c97dfb",
   "metadata": {},
   "outputs": [],
   "source": [
    "from pyspark.sql import SparkSession"
   ]
  },
  {
   "cell_type": "code",
   "execution_count": 5,
   "id": "4ffeae9e",
   "metadata": {},
   "outputs": [
    {
     "name": "stderr",
     "output_type": "stream",
     "text": [
      "WARNING: An illegal reflective access operation has occurred\n",
      "WARNING: Illegal reflective access by org.apache.spark.unsafe.Platform (file:/usr/local/spark-3.2.0-bin-hadoop3.2/jars/spark-unsafe_2.12-3.2.0.jar) to constructor java.nio.DirectByteBuffer(long,int)\n",
      "WARNING: Please consider reporting this to the maintainers of org.apache.spark.unsafe.Platform\n",
      "WARNING: Use --illegal-access=warn to enable warnings of further illegal reflective access operations\n",
      "WARNING: All illegal access operations will be denied in a future release\n",
      "Using Spark's default log4j profile: org/apache/spark/log4j-defaults.properties\n",
      "Setting default log level to \"WARN\".\n",
      "To adjust logging level use sc.setLogLevel(newLevel). For SparkR, use setLogLevel(newLevel).\n",
      "21/11/16 09:16:29 WARN NativeCodeLoader: Unable to load native-hadoop library for your platform... using builtin-java classes where applicable\n",
      "21/11/16 09:16:31 WARN Utils: Service 'SparkUI' could not bind on port 4040. Attempting port 4041.\n"
     ]
    }
   ],
   "source": [
    "spark = SparkSession.builder.appName('covid-19').master('local[*]').getOrCreate()"
   ]
  },
  {
   "cell_type": "code",
   "execution_count": 6,
   "id": "3369e384",
   "metadata": {},
   "outputs": [
    {
     "data": {
      "text/html": [
       "\n",
       "            <div>\n",
       "                <p><b>SparkSession - in-memory</b></p>\n",
       "                \n",
       "        <div>\n",
       "            <p><b>SparkContext</b></p>\n",
       "\n",
       "            <p><a href=\"http://b96b74877514:4041\">Spark UI</a></p>\n",
       "\n",
       "            <dl>\n",
       "              <dt>Version</dt>\n",
       "                <dd><code>v3.2.0</code></dd>\n",
       "              <dt>Master</dt>\n",
       "                <dd><code>local[*]</code></dd>\n",
       "              <dt>AppName</dt>\n",
       "                <dd><code>covid-19</code></dd>\n",
       "            </dl>\n",
       "        </div>\n",
       "        \n",
       "            </div>\n",
       "        "
      ],
      "text/plain": [
       "<pyspark.sql.session.SparkSession at 0x7f28c05b9370>"
      ]
     },
     "execution_count": 6,
     "metadata": {},
     "output_type": "execute_result"
    }
   ],
   "source": [
    "spark"
   ]
  },
  {
   "cell_type": "code",
   "execution_count": 35,
   "id": "646d972d",
   "metadata": {},
   "outputs": [],
   "source": [
    "df = spark.read.csv('covid-19.csv', header = True, inferSchema = True)"
   ]
  },
  {
   "cell_type": "code",
   "execution_count": 36,
   "id": "cd425de5",
   "metadata": {},
   "outputs": [
    {
     "name": "stdout",
     "output_type": "stream",
     "text": [
      "root\n",
      " |-- txn_date: string (nullable = true)\n",
      " |-- user_id: integer (nullable = true)\n",
      " |-- gender: string (nullable = true)\n",
      " |-- age_number: double (nullable = true)\n",
      " |-- age_range: string (nullable = true)\n",
      " |-- nationality: string (nullable = true)\n",
      " |-- job: string (nullable = true)\n",
      " |-- risk: string (nullable = true)\n",
      " |-- patient_type: string (nullable = true)\n",
      " |-- province: string (nullable = true)\n",
      " |-- time: string (nullable = true)\n",
      "\n"
     ]
    }
   ],
   "source": [
    "df.printSchema()"
   ]
  },
  {
   "cell_type": "code",
   "execution_count": 37,
   "id": "1e6056e9",
   "metadata": {},
   "outputs": [
    {
     "name": "stdout",
     "output_type": "stream",
     "text": [
      "(5947, 11)\n"
     ]
    }
   ],
   "source": [
    "print((df.count(), len(df.columns)))"
   ]
  },
  {
   "cell_type": "code",
   "execution_count": 39,
   "id": "0f412129",
   "metadata": {},
   "outputs": [
    {
     "name": "stdout",
     "output_type": "stream",
     "text": [
      "+----------+-------+------+----------+---------+-----------+----+---------------------------------------------+-------------------+---------+-------------------+\n",
      "|txn_date  |user_id|gender|age_number|age_range|nationality|job |risk                                         |patient_type       |province |time               |\n",
      "+----------+-------+------+----------+---------+-----------+----+---------------------------------------------+-------------------+---------+-------------------+\n",
      "|2021-11-16|2010632|หญิง  |18.0      |10-19 ปี |null       |null|สัมผัสใกล้ชิดกับผู้ป่วยยืนยันรายก่อนหน้านี้  |2.สัมผัสผู้ติดเชื้อ|เชียงใหม่|2021-11-16 07:31:38|\n",
      "|2021-11-16|2010633|ชาย   |37.0      |30-39 ปี |null       |null|ไปสถานที่ชุมชน เช่น ตลาดนัด สถานที่ท่องเที่ยว|10.อื่นๆ           |เชียงใหม่|2021-11-16 07:31:38|\n",
      "|2021-11-16|2010634|หญิง  |50.0      |50-59 ปี |null       |null|อยู่ระหว่างการสอบสวน                         |10.อื่นๆ           |เชียงใหม่|2021-11-16 07:31:38|\n",
      "|2021-11-16|2010635|ชาย   |63.0      |60-69 ปี |null       |null|อยู่ระหว่างการสอบสวน                         |10.อื่นๆ           |เชียงใหม่|2021-11-16 07:31:38|\n",
      "|2021-11-16|2010636|ชาย   |19.0      |10-19 ปี |null       |null|อยู่ระหว่างการสอบสวน                         |10.อื่นๆ           |เชียงใหม่|2021-11-16 07:31:38|\n",
      "|2021-11-16|2010637|ชาย   |50.0      |50-59 ปี |null       |null|อื่นๆ                                        |10.อื่นๆ           |เชียงใหม่|2021-11-16 07:31:38|\n",
      "|2021-11-16|2010638|หญิง  |18.0      |10-19 ปี |null       |null|สัมผัสใกล้ชิดกับผู้ป่วยยืนยันรายก่อนหน้านี้  |2.สัมผัสผู้ติดเชื้อ|เชียงใหม่|2021-11-16 07:31:38|\n",
      "|2021-11-16|2010639|หญิง  |25.0      |20-29 ปี |null       |null|อื่นๆ                                        |10.อื่นๆ           |เชียงใหม่|2021-11-16 07:31:38|\n",
      "|2021-11-16|2010640|หญิง  |16.0      |10-19 ปี |null       |null|อยู่ระหว่างการสอบสวน                         |10.อื่นๆ           |เชียงใหม่|2021-11-16 07:31:38|\n",
      "|2021-11-16|2010641|ชาย   |4.0       |< 10 ปี  |null       |null|สัมผัสใกล้ชิดกับผู้ป่วยยืนยันรายก่อนหน้านี้  |2.สัมผัสผู้ติดเชื้อ|เชียงใหม่|2021-11-16 07:31:38|\n",
      "|2021-11-16|2010642|หญิง  |43.0      |40-49 ปี |null       |null|สัมผัสใกล้ชิดกับผู้ป่วยยืนยันรายก่อนหน้านี้  |2.สัมผัสผู้ติดเชื้อ|เชียงใหม่|2021-11-16 07:31:38|\n",
      "|2021-11-16|2010643|ชาย   |39.0      |30-39 ปี |null       |null|อยู่ระหว่างการสอบสวน                         |10.อื่นๆ           |เชียงใหม่|2021-11-16 07:31:38|\n",
      "|2021-11-16|2010644|หญิง  |11.0      |10-19 ปี |null       |null|ไปสถานที่ชุมชน เช่น ตลาดนัด สถานที่ท่องเที่ยว|10.อื่นๆ           |เชียงใหม่|2021-11-16 07:31:38|\n",
      "|2021-11-16|2010645|หญิง  |23.0      |20-29 ปี |null       |null|สถานที่ทำงาน                                 |10.อื่นๆ           |เชียงใหม่|2021-11-16 07:31:38|\n",
      "|2021-11-16|2010646|ชาย   |71.0      |>= 70 ปี |null       |null|อยู่ระหว่างการสอบสวน                         |10.อื่นๆ           |เชียงใหม่|2021-11-16 07:31:38|\n",
      "|2021-11-16|2010647|หญิง  |20.0      |20-29 ปี |null       |null|อื่นๆ                                        |10.อื่นๆ           |เชียงใหม่|2021-11-16 07:31:38|\n",
      "|2021-11-16|2010648|ชาย   |64.0      |60-69 ปี |null       |null|สัมผัสใกล้ชิดกับผู้ป่วยยืนยันรายก่อนหน้านี้  |2.สัมผัสผู้ติดเชื้อ|เชียงใหม่|2021-11-16 07:31:38|\n",
      "|2021-11-16|2010649|ชาย   |66.0      |60-69 ปี |null       |null|สถานที่ทำงาน                                 |10.อื่นๆ           |เชียงใหม่|2021-11-16 07:31:38|\n",
      "|2021-11-16|2010650|หญิง  |35.0      |30-39 ปี |null       |null|สถานที่ทำงาน                                 |10.อื่นๆ           |เชียงใหม่|2021-11-16 07:31:38|\n",
      "|2021-11-16|2010651|หญิง  |19.0      |10-19 ปี |null       |null|สัมผัสใกล้ชิดกับผู้ป่วยยืนยันรายก่อนหน้านี้  |2.สัมผัสผู้ติดเชื้อ|เชียงใหม่|2021-11-16 07:31:38|\n",
      "+----------+-------+------+----------+---------+-----------+----+---------------------------------------------+-------------------+---------+-------------------+\n",
      "only showing top 20 rows\n",
      "\n"
     ]
    }
   ],
   "source": [
    "df.show(20, False)"
   ]
  },
  {
   "cell_type": "code",
   "execution_count": 44,
   "id": "7c0d18f6",
   "metadata": {},
   "outputs": [],
   "source": [
    "df = df.withColumnRenamed(\"txn_date\",\"timestamp\")"
   ]
  },
  {
   "cell_type": "code",
   "execution_count": 45,
   "id": "e03e1471",
   "metadata": {},
   "outputs": [
    {
     "name": "stdout",
     "output_type": "stream",
     "text": [
      "root\n",
      " |-- timestamp: string (nullable = true)\n",
      " |-- user_id: integer (nullable = true)\n",
      " |-- gender: string (nullable = true)\n",
      " |-- age_number: double (nullable = true)\n",
      " |-- age_range: string (nullable = true)\n",
      " |-- nationality: string (nullable = true)\n",
      " |-- job: string (nullable = true)\n",
      " |-- risk: string (nullable = true)\n",
      " |-- patient_type: string (nullable = true)\n",
      " |-- province: string (nullable = true)\n",
      " |-- time: string (nullable = true)\n",
      "\n"
     ]
    }
   ],
   "source": [
    "df.printSchema()"
   ]
  },
  {
   "cell_type": "code",
   "execution_count": 61,
   "id": "95ea26ee",
   "metadata": {},
   "outputs": [],
   "source": [
    "df_clean = df.select('time','user_id','gender', 'age_number', 'nationality', 'job', 'risk', 'province')"
   ]
  },
  {
   "cell_type": "code",
   "execution_count": 62,
   "id": "b8c9a1a2",
   "metadata": {},
   "outputs": [
    {
     "data": {
      "text/plain": [
       "5132"
      ]
     },
     "execution_count": 62,
     "metadata": {},
     "output_type": "execute_result"
    }
   ],
   "source": [
    "df_clean.where(df_clean.nationality == 'Thai').count()"
   ]
  },
  {
   "cell_type": "code",
   "execution_count": 64,
   "id": "7f619f33",
   "metadata": {},
   "outputs": [
    {
     "data": {
      "text/plain": [
       "5947"
      ]
     },
     "execution_count": 64,
     "metadata": {},
     "output_type": "execute_result"
    }
   ],
   "source": [
    "df_clean.select('nationality').count()"
   ]
  },
  {
   "cell_type": "code",
   "execution_count": 66,
   "id": "b7756bae",
   "metadata": {},
   "outputs": [],
   "source": [
    "df_clean = df_clean.withColumnRenamed(\"time\",\"timestamp\")"
   ]
  },
  {
   "cell_type": "code",
   "execution_count": 68,
   "id": "72fd7103",
   "metadata": {},
   "outputs": [
    {
     "name": "stdout",
     "output_type": "stream",
     "text": [
      "root\n",
      " |-- timestamp: string (nullable = true)\n",
      " |-- user_id: integer (nullable = true)\n",
      " |-- gender: string (nullable = true)\n",
      " |-- age_number: double (nullable = true)\n",
      " |-- nationality: string (nullable = true)\n",
      " |-- job: string (nullable = true)\n",
      " |-- risk: string (nullable = true)\n",
      " |-- province: string (nullable = true)\n",
      "\n"
     ]
    }
   ],
   "source": [
    "df_clean.printSchema()"
   ]
  },
  {
   "cell_type": "code",
   "execution_count": 71,
   "id": "a9e3bb31",
   "metadata": {},
   "outputs": [],
   "source": [
    "#เปลี่ยน timestamp type จาก string เป็น timestamp\n",
    "from pyspark.sql import functions as f\n",
    "\n",
    "df_clean = df_clean.withColumn('timestamp', f.to_timestamp(df_clean.timestamp,'yyyy-MM-dd HH:mm:ss'))"
   ]
  },
  {
   "cell_type": "code",
   "execution_count": 74,
   "id": "bc5f1e29",
   "metadata": {},
   "outputs": [
    {
     "name": "stdout",
     "output_type": "stream",
     "text": [
      "root\n",
      " |-- timestamp: timestamp (nullable = true)\n",
      " |-- user_id: integer (nullable = true)\n",
      " |-- gender: string (nullable = true)\n",
      " |-- age_number: double (nullable = true)\n",
      " |-- nationality: string (nullable = true)\n",
      " |-- job: string (nullable = true)\n",
      " |-- risk: string (nullable = true)\n",
      " |-- province: string (nullable = true)\n",
      "\n"
     ]
    }
   ],
   "source": [
    "df_clean.printSchema()"
   ]
  },
  {
   "cell_type": "code",
   "execution_count": 76,
   "id": "7ffa2acb",
   "metadata": {},
   "outputs": [
    {
     "name": "stderr",
     "output_type": "stream",
     "text": [
      "[Stage 38:>                                                         (0 + 1) / 1]\r"
     ]
    },
    {
     "name": "stdout",
     "output_type": "stream",
     "text": [
      "+---------+-------+------+----------+-----------+----+----+--------+\n",
      "|timestamp|user_id|gender|age_number|nationality| job|risk|province|\n",
      "+---------+-------+------+----------+-----------+----+----+--------+\n",
      "|        0|      0|     0|       555|        579|5837|   0|       0|\n",
      "+---------+-------+------+----------+-----------+----+----+--------+\n",
      "\n"
     ]
    },
    {
     "name": "stderr",
     "output_type": "stream",
     "text": [
      "                                                                                \r"
     ]
    }
   ],
   "source": [
    "#เช็คค่า missing value\n",
    "from pyspark.sql.functions import col, sum\n",
    "\n",
    "df_clean2 = df_clean.select([ sum(col(colname).isNull().cast(\"int\")).alias(colname) for colname in df_clean.columns ])\n",
    "df_clean2.show()"
   ]
  },
  {
   "cell_type": "code",
   "execution_count": 77,
   "id": "64df17b7",
   "metadata": {},
   "outputs": [
    {
     "name": "stdout",
     "output_type": "stream",
     "text": [
      "+-------------------+-------+-------+----------+-----------+----+--------------------+---------+\n",
      "|          timestamp|user_id| gender|age_number|nationality| job|                risk| province|\n",
      "+-------------------+-------+-------+----------+-----------+----+--------------------+---------+\n",
      "|2021-11-16 07:31:38|2014927|   หญิง|      null|       Thai|null|               อื่นๆ|  ปัตตานี|\n",
      "|2021-11-16 07:31:38|2010865|    ชาย|      null|       null|null|               อื่นๆ|เชียงใหม่|\n",
      "|2021-11-16 07:31:38|2010903|    ชาย|      null|       null|null|สัมผัสใกล้ชิดกับผ...|เชียงใหม่|\n",
      "|2021-11-16 07:31:38|2015234|    ชาย|      null|       Thai|null|               อื่นๆ|     สตูล|\n",
      "|2021-11-16 07:31:38|2015253|   หญิง|      null|       Thai|null|สัมผัสใกล้ชิดกับผ...|     สตูล|\n",
      "|2021-11-16 07:31:38|2011211|ไม่ระบุ|      null|       Thai|null|          ระบุไม่ได้| พิษณุโลก|\n",
      "|2021-11-16 07:31:38|2011212|ไม่ระบุ|      null|       Thai|null|          ระบุไม่ได้| พิษณุโลก|\n",
      "|2021-11-16 07:31:38|2011213|ไม่ระบุ|      null|       Thai|null|          ระบุไม่ได้| พิษณุโลก|\n",
      "|2021-11-16 07:31:38|2011214|ไม่ระบุ|      null|       Thai|null|          ระบุไม่ได้| พิษณุโลก|\n",
      "|2021-11-16 07:31:38|2011215|ไม่ระบุ|      null|       Thai|null|          ระบุไม่ได้| พิษณุโลก|\n",
      "|2021-11-16 07:31:38|2011216|ไม่ระบุ|      null|       Thai|null|          ระบุไม่ได้| พิษณุโลก|\n",
      "|2021-11-16 07:31:38|2011220|ไม่ระบุ|      null|       Thai|null|          ระบุไม่ได้| พิษณุโลก|\n",
      "|2021-11-16 07:31:38|2011221|ไม่ระบุ|      null|       Thai|null|          ระบุไม่ได้| พิษณุโลก|\n",
      "|2021-11-16 07:31:38|2011222|ไม่ระบุ|      null|       Thai|null|          ระบุไม่ได้| พิษณุโลก|\n",
      "|2021-11-16 07:31:38|2011223|ไม่ระบุ|      null|       Thai|null|          ระบุไม่ได้| พิษณุโลก|\n",
      "|2021-11-16 07:31:38|2011224|ไม่ระบุ|      null|       Thai|null|          ระบุไม่ได้| พิษณุโลก|\n",
      "|2021-11-16 07:31:38|2011225|ไม่ระบุ|      null|       Thai|null|          ระบุไม่ได้| พิษณุโลก|\n",
      "|2021-11-16 07:31:38|2011226|ไม่ระบุ|      null|       Thai|null|          ระบุไม่ได้| พิษณุโลก|\n",
      "|2021-11-16 07:31:38|2011227|ไม่ระบุ|      null|       Thai|null|          ระบุไม่ได้| พิษณุโลก|\n",
      "|2021-11-16 07:31:38|2011228|ไม่ระบุ|      null|       Thai|null|          ระบุไม่ได้| พิษณุโลก|\n",
      "+-------------------+-------+-------+----------+-----------+----+--------------------+---------+\n",
      "only showing top 20 rows\n",
      "\n"
     ]
    }
   ],
   "source": [
    "df_clean.where(df_clean.age_number.isNull()).show()\n"
   ]
  },
  {
   "cell_type": "code",
   "execution_count": 84,
   "id": "98828e40",
   "metadata": {},
   "outputs": [],
   "source": [
    "#กำหนดให้ค่า missing value ใน age_number เป็น 0\n",
    "from pyspark.sql.functions import when\n",
    "\n",
    "df_clean_age_number = df_clean.withColumn('age_number_update', when(df_clean['age_number'].isNull(), '0').otherwise(df_clean['age_number']))"
   ]
  },
  {
   "cell_type": "code",
   "execution_count": 90,
   "id": "ab69c26c",
   "metadata": {},
   "outputs": [
    {
     "name": "stdout",
     "output_type": "stream",
     "text": [
      "+-------------------+-------+------+----------+-----------+----+--------------------+---------+-----------------+\n",
      "|          timestamp|user_id|gender|age_number|nationality| job|                risk| province|age_number_update|\n",
      "+-------------------+-------+------+----------+-----------+----+--------------------+---------+-----------------+\n",
      "|2021-11-16 07:31:38|2010632|  หญิง|      18.0|       null|null|สัมผัสใกล้ชิดกับผ...|เชียงใหม่|             18.0|\n",
      "|2021-11-16 07:31:38|2010633|   ชาย|      37.0|       null|null|ไปสถานที่ชุมชน เช...|เชียงใหม่|             37.0|\n",
      "|2021-11-16 07:31:38|2010634|  หญิง|      50.0|       null|null|อยู่ระหว่างการสอบสวน|เชียงใหม่|             50.0|\n",
      "|2021-11-16 07:31:38|2010635|   ชาย|      63.0|       null|null|อยู่ระหว่างการสอบสวน|เชียงใหม่|             63.0|\n",
      "|2021-11-16 07:31:38|2010636|   ชาย|      19.0|       null|null|อยู่ระหว่างการสอบสวน|เชียงใหม่|             19.0|\n",
      "|2021-11-16 07:31:38|2010637|   ชาย|      50.0|       null|null|               อื่นๆ|เชียงใหม่|             50.0|\n",
      "|2021-11-16 07:31:38|2010638|  หญิง|      18.0|       null|null|สัมผัสใกล้ชิดกับผ...|เชียงใหม่|             18.0|\n",
      "|2021-11-16 07:31:38|2010639|  หญิง|      25.0|       null|null|               อื่นๆ|เชียงใหม่|             25.0|\n",
      "|2021-11-16 07:31:38|2010640|  หญิง|      16.0|       null|null|อยู่ระหว่างการสอบสวน|เชียงใหม่|             16.0|\n",
      "|2021-11-16 07:31:38|2010641|   ชาย|       4.0|       null|null|สัมผัสใกล้ชิดกับผ...|เชียงใหม่|              4.0|\n",
      "|2021-11-16 07:31:38|2010642|  หญิง|      43.0|       null|null|สัมผัสใกล้ชิดกับผ...|เชียงใหม่|             43.0|\n",
      "|2021-11-16 07:31:38|2010643|   ชาย|      39.0|       null|null|อยู่ระหว่างการสอบสวน|เชียงใหม่|             39.0|\n",
      "|2021-11-16 07:31:38|2010644|  หญิง|      11.0|       null|null|ไปสถานที่ชุมชน เช...|เชียงใหม่|             11.0|\n",
      "|2021-11-16 07:31:38|2010645|  หญิง|      23.0|       null|null|        สถานที่ทำงาน|เชียงใหม่|             23.0|\n",
      "|2021-11-16 07:31:38|2010646|   ชาย|      71.0|       null|null|อยู่ระหว่างการสอบสวน|เชียงใหม่|             71.0|\n",
      "|2021-11-16 07:31:38|2010647|  หญิง|      20.0|       null|null|               อื่นๆ|เชียงใหม่|             20.0|\n",
      "|2021-11-16 07:31:38|2010648|   ชาย|      64.0|       null|null|สัมผัสใกล้ชิดกับผ...|เชียงใหม่|             64.0|\n",
      "|2021-11-16 07:31:38|2010649|   ชาย|      66.0|       null|null|        สถานที่ทำงาน|เชียงใหม่|             66.0|\n",
      "|2021-11-16 07:31:38|2010650|  หญิง|      35.0|       null|null|        สถานที่ทำงาน|เชียงใหม่|             35.0|\n",
      "|2021-11-16 07:31:38|2010651|  หญิง|      19.0|       null|null|สัมผัสใกล้ชิดกับผ...|เชียงใหม่|             19.0|\n",
      "+-------------------+-------+------+----------+-----------+----+--------------------+---------+-----------------+\n",
      "only showing top 20 rows\n",
      "\n"
     ]
    }
   ],
   "source": [
    "df_clean_age_number.show()"
   ]
  },
  {
   "cell_type": "code",
   "execution_count": 92,
   "id": "6d4444f2",
   "metadata": {},
   "outputs": [],
   "source": [
    "df_clean = df_clean_age_number.drop('age_number').withColumnRenamed('age_number_update', 'age_number')"
   ]
  },
  {
   "cell_type": "code",
   "execution_count": 93,
   "id": "7822aa4c",
   "metadata": {},
   "outputs": [
    {
     "name": "stdout",
     "output_type": "stream",
     "text": [
      "+-------------------+-------+------+-----------+----+--------------------+---------+----------+\n",
      "|          timestamp|user_id|gender|nationality| job|                risk| province|age_number|\n",
      "+-------------------+-------+------+-----------+----+--------------------+---------+----------+\n",
      "|2021-11-16 07:31:38|2010632|  หญิง|       null|null|สัมผัสใกล้ชิดกับผ...|เชียงใหม่|      18.0|\n",
      "|2021-11-16 07:31:38|2010633|   ชาย|       null|null|ไปสถานที่ชุมชน เช...|เชียงใหม่|      37.0|\n",
      "|2021-11-16 07:31:38|2010634|  หญิง|       null|null|อยู่ระหว่างการสอบสวน|เชียงใหม่|      50.0|\n",
      "|2021-11-16 07:31:38|2010635|   ชาย|       null|null|อยู่ระหว่างการสอบสวน|เชียงใหม่|      63.0|\n",
      "|2021-11-16 07:31:38|2010636|   ชาย|       null|null|อยู่ระหว่างการสอบสวน|เชียงใหม่|      19.0|\n",
      "|2021-11-16 07:31:38|2010637|   ชาย|       null|null|               อื่นๆ|เชียงใหม่|      50.0|\n",
      "|2021-11-16 07:31:38|2010638|  หญิง|       null|null|สัมผัสใกล้ชิดกับผ...|เชียงใหม่|      18.0|\n",
      "|2021-11-16 07:31:38|2010639|  หญิง|       null|null|               อื่นๆ|เชียงใหม่|      25.0|\n",
      "|2021-11-16 07:31:38|2010640|  หญิง|       null|null|อยู่ระหว่างการสอบสวน|เชียงใหม่|      16.0|\n",
      "|2021-11-16 07:31:38|2010641|   ชาย|       null|null|สัมผัสใกล้ชิดกับผ...|เชียงใหม่|       4.0|\n",
      "|2021-11-16 07:31:38|2010642|  หญิง|       null|null|สัมผัสใกล้ชิดกับผ...|เชียงใหม่|      43.0|\n",
      "|2021-11-16 07:31:38|2010643|   ชาย|       null|null|อยู่ระหว่างการสอบสวน|เชียงใหม่|      39.0|\n",
      "|2021-11-16 07:31:38|2010644|  หญิง|       null|null|ไปสถานที่ชุมชน เช...|เชียงใหม่|      11.0|\n",
      "|2021-11-16 07:31:38|2010645|  หญิง|       null|null|        สถานที่ทำงาน|เชียงใหม่|      23.0|\n",
      "|2021-11-16 07:31:38|2010646|   ชาย|       null|null|อยู่ระหว่างการสอบสวน|เชียงใหม่|      71.0|\n",
      "|2021-11-16 07:31:38|2010647|  หญิง|       null|null|               อื่นๆ|เชียงใหม่|      20.0|\n",
      "|2021-11-16 07:31:38|2010648|   ชาย|       null|null|สัมผัสใกล้ชิดกับผ...|เชียงใหม่|      64.0|\n",
      "|2021-11-16 07:31:38|2010649|   ชาย|       null|null|        สถานที่ทำงาน|เชียงใหม่|      66.0|\n",
      "|2021-11-16 07:31:38|2010650|  หญิง|       null|null|        สถานที่ทำงาน|เชียงใหม่|      35.0|\n",
      "|2021-11-16 07:31:38|2010651|  หญิง|       null|null|สัมผัสใกล้ชิดกับผ...|เชียงใหม่|      19.0|\n",
      "+-------------------+-------+------+-----------+----+--------------------+---------+----------+\n",
      "only showing top 20 rows\n",
      "\n"
     ]
    }
   ],
   "source": [
    "df_clean.show()"
   ]
  },
  {
   "cell_type": "code",
   "execution_count": 94,
   "id": "95537b58",
   "metadata": {},
   "outputs": [],
   "source": [
    "#กำหนดให้ค่า missing value ใน nationality เป็น Unspecified \n",
    "\n",
    "df_clean_nationality = df_clean.withColumn('nationality_update', when(df_clean['nationality'].isNull(), 'Unspecified').otherwise(df_clean['nationality']))"
   ]
  },
  {
   "cell_type": "code",
   "execution_count": 95,
   "id": "2fd75833",
   "metadata": {},
   "outputs": [],
   "source": [
    "df_clean = df_clean_nationality.drop('nationality').withColumnRenamed('nationality_update', 'nationality')"
   ]
  },
  {
   "cell_type": "code",
   "execution_count": 97,
   "id": "c58bb1b1",
   "metadata": {},
   "outputs": [],
   "source": [
    "#กำหนดให้ค่า missing value ใน job เป็น Unspecified\n",
    "\n",
    "df_clean_job = df_clean.withColumn('job_update', when(df_clean['job'].isNull(), 'Unspecified').otherwise(df_clean['job']))"
   ]
  },
  {
   "cell_type": "code",
   "execution_count": 98,
   "id": "3c211ad6",
   "metadata": {},
   "outputs": [],
   "source": [
    "df_clean = df_clean_job.drop('job').withColumnRenamed('job_update', 'job')"
   ]
  },
  {
   "cell_type": "code",
   "execution_count": 102,
   "id": "9ba20659",
   "metadata": {},
   "outputs": [
    {
     "name": "stdout",
     "output_type": "stream",
     "text": [
      "+---------+-------+------+----+--------+----------+-----------+---+\n",
      "|timestamp|user_id|gender|risk|province|age_number|nationality|job|\n",
      "+---------+-------+------+----+--------+----------+-----------+---+\n",
      "|        0|      0|     0|   0|       0|         0|          0|  0|\n",
      "+---------+-------+------+----+--------+----------+-----------+---+\n",
      "\n"
     ]
    }
   ],
   "source": [
    "df_clean = df_clean.select([ sum(col(colname).isNull().cast(\"int\")).alias(colname) for colname in df_clean.columns ])\n",
    "df_clean.show()"
   ]
  },
  {
   "cell_type": "code",
   "execution_count": 101,
   "id": "1178d4f2",
   "metadata": {},
   "outputs": [
    {
     "name": "stderr",
     "output_type": "stream",
     "text": [
      "                                                                                \r"
     ]
    }
   ],
   "source": [
    "# เซฟเป็น 1 ไฟล์ (ใช้ single worker)\n",
    "df_clean.coalesce(1).write.csv('Cleaned_covid-19.csv', header = True)"
   ]
  },
  {
   "cell_type": "code",
   "execution_count": 104,
   "id": "57bd14b0",
   "metadata": {},
   "outputs": [
    {
     "name": "stderr",
     "output_type": "stream",
     "text": [
      "                                                                                \r"
     ]
    }
   ],
   "source": [
    "df_clean.write.csv('Cleaned_covid-19-2.csv', header = True)"
   ]
  },
  {
   "cell_type": "code",
   "execution_count": null,
   "id": "a2ac12ea",
   "metadata": {},
   "outputs": [],
   "source": []
  }
 ],
 "metadata": {
  "kernelspec": {
   "display_name": "Python 3 (ipykernel)",
   "language": "python",
   "name": "python3"
  },
  "language_info": {
   "codemirror_mode": {
    "name": "ipython",
    "version": 3
   },
   "file_extension": ".py",
   "mimetype": "text/x-python",
   "name": "python",
   "nbconvert_exporter": "python",
   "pygments_lexer": "ipython3",
   "version": "3.9.7"
  }
 },
 "nbformat": 4,
 "nbformat_minor": 5
}
